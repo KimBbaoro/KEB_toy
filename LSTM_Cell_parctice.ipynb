{
  "nbformat": 4,
  "nbformat_minor": 0,
  "metadata": {
    "colab": {
      "provenance": [],
      "gpuType": "T4",
      "authorship_tag": "ABX9TyNJSrY4ge2ZR643uKRZd953",
      "include_colab_link": true
    },
    "kernelspec": {
      "name": "python3",
      "display_name": "Python 3"
    },
    "language_info": {
      "name": "python"
    },
    "accelerator": "GPU",
    "gpuClass": "standard"
  },
  "cells": [
    {
      "cell_type": "markdown",
      "metadata": {
        "id": "view-in-github",
        "colab_type": "text"
      },
      "source": [
        "<a href=\"https://colab.research.google.com/github/KimBbaoro/KEB_toy/blob/master/LSTM_Cell_parctice.ipynb\" target=\"_parent\"><img src=\"https://colab.research.google.com/assets/colab-badge.svg\" alt=\"Open In Colab\"/></a>"
      ]
    },
    {
      "cell_type": "markdown",
      "source": [],
      "metadata": {
        "id": "2fnJHAnGs34J"
      }
    },
    {
      "cell_type": "code",
      "execution_count": 1,
      "metadata": {
        "id": "6bYWs-h7QSl4"
      },
      "outputs": [],
      "source": [
        "import torch\n",
        "import torch.nn as nn\n",
        "import torchvision.transforms as transforms\n",
        "import torchvision.datasets as dataset\n",
        "from torch.autograd import Variable\n",
        "from torch.nn import Parameter\n",
        "from torch import Tensor\n",
        "import torch.nn.functional as F\n",
        "from torch.utils.data import DataLoader\n",
        "import math\n",
        "\n",
        "device = torch.device(\"cuda:0\" if torch.cuda.is_available() else \"cpu\")\n",
        "cuda = True if torch.cuda.is_available() else False\n",
        "\n",
        "Tensor = torch.cuda.FloatTensor if cuda else torch.FloatTensor\n",
        "torch.manual_seed(125)\n",
        "if torch.cuda.is_available():\n",
        "  torch.cuda.manual_seed_all(125)"
      ]
    },
    {
      "cell_type": "code",
      "source": [
        "import torchvision.transforms as transforms\n",
        "\n",
        "mnist_transform = transforms.Compose([\n",
        "    transforms.ToTensor(),\n",
        "    transforms.Normalize((0.5,),(1.0, ) ) #평균, 표편\n",
        "])"
      ],
      "metadata": {
        "id": "0TxfgahDuuV3"
      },
      "execution_count": 2,
      "outputs": []
    },
    {
      "cell_type": "code",
      "source": [
        "from torchvision.datasets import MNIST\n",
        "\n",
        "root = \"/content/sample_data\"\n",
        "train_dataset = MNIST(root , transform = mnist_transform, train = True, download =True)\n",
        "valid_dataset = MNIST(root, transform = mnist_transform, train = False, download =True)\n",
        "test_dataset = MNIST(root, transform = mnist_transform, train = False, download =True)"
      ],
      "metadata": {
        "colab": {
          "base_uri": "https://localhost:8080/"
        },
        "id": "PT2Tf_D0vqzA",
        "outputId": "8a2d021b-9168-46a5-e010-9d0bb8d7b885"
      },
      "execution_count": 3,
      "outputs": [
        {
          "output_type": "stream",
          "name": "stdout",
          "text": [
            "Downloading http://yann.lecun.com/exdb/mnist/train-images-idx3-ubyte.gz\n",
            "Downloading http://yann.lecun.com/exdb/mnist/train-images-idx3-ubyte.gz to /content/sample_data/MNIST/raw/train-images-idx3-ubyte.gz\n"
          ]
        },
        {
          "output_type": "stream",
          "name": "stderr",
          "text": [
            "100%|██████████| 9912422/9912422 [00:00<00:00, 171879296.89it/s]\n"
          ]
        },
        {
          "output_type": "stream",
          "name": "stdout",
          "text": [
            "Extracting /content/sample_data/MNIST/raw/train-images-idx3-ubyte.gz to /content/sample_data/MNIST/raw\n",
            "\n",
            "Downloading http://yann.lecun.com/exdb/mnist/train-labels-idx1-ubyte.gz\n",
            "Downloading http://yann.lecun.com/exdb/mnist/train-labels-idx1-ubyte.gz to /content/sample_data/MNIST/raw/train-labels-idx1-ubyte.gz\n"
          ]
        },
        {
          "output_type": "stream",
          "name": "stderr",
          "text": [
            "100%|██████████| 28881/28881 [00:00<00:00, 111440380.70it/s]\n"
          ]
        },
        {
          "output_type": "stream",
          "name": "stdout",
          "text": [
            "Extracting /content/sample_data/MNIST/raw/train-labels-idx1-ubyte.gz to /content/sample_data/MNIST/raw\n",
            "\n",
            "Downloading http://yann.lecun.com/exdb/mnist/t10k-images-idx3-ubyte.gz\n",
            "Downloading http://yann.lecun.com/exdb/mnist/t10k-images-idx3-ubyte.gz to /content/sample_data/MNIST/raw/t10k-images-idx3-ubyte.gz\n"
          ]
        },
        {
          "output_type": "stream",
          "name": "stderr",
          "text": [
            "100%|██████████| 1648877/1648877 [00:00<00:00, 146765659.28it/s]"
          ]
        },
        {
          "output_type": "stream",
          "name": "stdout",
          "text": [
            "Extracting /content/sample_data/MNIST/raw/t10k-images-idx3-ubyte.gz to /content/sample_data/MNIST/raw\n",
            "\n",
            "Downloading http://yann.lecun.com/exdb/mnist/t10k-labels-idx1-ubyte.gz\n",
            "Downloading http://yann.lecun.com/exdb/mnist/t10k-labels-idx1-ubyte.gz to /content/sample_data/MNIST/raw/t10k-labels-idx1-ubyte.gz\n"
          ]
        },
        {
          "output_type": "stream",
          "name": "stderr",
          "text": [
            "\n",
            "100%|██████████| 4542/4542 [00:00<00:00, 6442519.03it/s]\n"
          ]
        },
        {
          "output_type": "stream",
          "name": "stdout",
          "text": [
            "Extracting /content/sample_data/MNIST/raw/t10k-labels-idx1-ubyte.gz to /content/sample_data/MNIST/raw\n",
            "\n"
          ]
        }
      ]
    },
    {
      "cell_type": "code",
      "source": [
        "batch_size = 64\n",
        "train_loader = DataLoader(dataset = train_dataset, batch_size = batch_size,\n",
        "                          shuffle = True)\n",
        "valid_loader = DataLoader(dataset = test_dataset, batch_size = batch_size,\n",
        "                          shuffle = True)"
      ],
      "metadata": {
        "id": "Ue27Re5fwE60"
      },
      "execution_count": 4,
      "outputs": []
    },
    {
      "cell_type": "code",
      "source": [
        "batch_size = 100\n",
        "n_iters = 6000\n",
        "\n",
        "#몇번 반복하는\n",
        "\n",
        "num_epochs = n_iters/(len(train_dataset)/batch_size)\n",
        "num_epochs = int(num_epochs)"
      ],
      "metadata": {
        "id": "rSooO3KGxEj8"
      },
      "execution_count": 5,
      "outputs": []
    },
    {
      "cell_type": "markdown",
      "source": [
        "우리는 셀에 집중할 것임.//오류 class"
      ],
      "metadata": {
        "id": "kyiZ-EJwxtV-"
      }
    },
    {
      "cell_type": "markdown",
      "source": [
        "#수정된 cell"
      ],
      "metadata": {
        "id": "RnFH_GAQ5dlx"
      }
    },
    {
      "cell_type": "code",
      "source": [
        "class LSTMCell(nn.Module):\n",
        "    def __init__(self, input_size, hidden_size, bias=True):\n",
        "        super(LSTMCell, self).__init__()\n",
        "        self.input_size = input_size\n",
        "        self.hidden_size = hidden_size\n",
        "        self.bias = bias\n",
        "\n",
        "        # input에서 h로 갈\n",
        "        # hidden to hidden\n",
        "        # why *4? -> 각 게이트에 줄거기 때문에\n",
        "        self.x2h = nn.Linear(input_size, 4 * hidden_size, bias=bias)\n",
        "        self.h2h = nn.Linear(hidden_size, 4 * hidden_size, bias=bias)\n",
        "        self.reset_parameters()\n",
        "\n",
        "    def reset_parameters(self):\n",
        "        std = 1.0 / math.sqrt(self.hidden_size)\n",
        "        for w in self.parameters():\n",
        "            # 난수 생성\n",
        "            w.data.uniform_(-std, std)\n",
        "\n",
        "    def forward(self, x, hidden):\n",
        "        hx, cx = hidden\n",
        "        x = x.view(-1, x.size(1))\n",
        "\n",
        "        gates = self.x2h(x) + self.h2h(hx)\n",
        "        gates = gates.squeeze()\n",
        "        ingate, forgetgate, cellgate, outgate = gates.chunk(4, 1)\n",
        "\n",
        "        ingate = F.sigmoid(ingate)\n",
        "        forgetgate = F.sigmoid(forgetgate)\n",
        "        cellgate = F.tanh(cellgate)\n",
        "        outgate = F.sigmoid(outgate)\n",
        "\n",
        "        cy = torch.mul(cx, forgetgate) + torch.mul(ingate, cellgate)\n",
        "        hy = torch.mul(outgate, F.tanh(cy))\n",
        "\n",
        "        return (hy, cy)\n"
      ],
      "metadata": {
        "id": "nsORg8SQ43JL"
      },
      "execution_count": 6,
      "outputs": []
    },
    {
      "cell_type": "code",
      "source": [
        "class LSTMModel(nn.Module):\n",
        "  def __init__(self, input_dim, hidden_dim , layer_dim, output_dim, bias = True):\n",
        "    super(LSTMModel, self).__init__()\n",
        "    self.hidden_dim = hidden_dim\n",
        "    self.layer_dim = layer_dim\n",
        "    self.lstm = LSTMCell(input_dim, hidden_dim, layer_dim)\n",
        "    self.fc = nn.Linear(hidden_dim, output_dim)\n",
        "\n",
        "  def forward(self, x):\n",
        "    if torch.cuda.is_available():\n",
        "      h0 = Variable(torch.zeros(self.layer_dim, x.size(0), self.hidden_dim).cuda())\n",
        "    else:\n",
        "      h0 = Variable(torch.zeros(self.layer_dim, x.size(0), self.hidden_dim))\n",
        "\n",
        "    if torch.cuda.is_available():\n",
        "      c0 = Variable(torch.zeros(self.layer_dim, x.size(0), self.hidden_dim).cuda())\n",
        "    else:\n",
        "      c0 = Variable(torch.zeros(self.layer_dim, x.size(0), self.hidden_dim))\n",
        "\n",
        "    outs = []\n",
        "\n",
        "    hn = h0[0,:,:]\n",
        "    cn = c0[0,:,:]\n",
        "\n",
        "    for seq in range(x.size(1)):\n",
        "      hn, cn = self.lstm(x[:,seq,:], (hn,cn))\n",
        "      outs.append(hn)\n",
        "\n",
        "    out = outs[-1].squeeze()\n",
        "    out = self.fc(out)\n",
        "    return out"
      ],
      "metadata": {
        "id": "3HFVujB-1AbT"
      },
      "execution_count": 16,
      "outputs": []
    },
    {
      "cell_type": "markdown",
      "source": [
        "옵티마이저와 손실함수 지정"
      ],
      "metadata": {
        "id": "uAoRK4zu3AcE"
      }
    },
    {
      "cell_type": "code",
      "source": [
        "input_dim = 28\n",
        "hidden_dim = 128\n",
        "layer_dim = 1\n",
        "output_dim = 10\n",
        "\n",
        "model = LSTMModel(input_dim, hidden_dim, layer_dim , output_dim)\n",
        "if torch.cuda.is_available():\n",
        "  model.cuda()\n",
        "\n",
        "criterion = nn.CrossEntropyLoss()\n",
        "learning_rate = 0.1\n",
        "optimizer = torch.optim.SGD(model.parameters(), lr = learning_rate)"
      ],
      "metadata": {
        "id": "ho9Jka0123GH"
      },
      "execution_count": 17,
      "outputs": []
    },
    {
      "cell_type": "code",
      "source": [
        "seq_dim = 28 \n",
        "loss_list = []\n",
        "iter = 0\n",
        "for epoch in range(num_epochs):\n",
        "    for i, (images, labels) in enumerate(train_loader):          \n",
        "        if torch.cuda.is_available():\n",
        "            images = Variable(images.view(-1, seq_dim, input_dim).cuda())\n",
        "            labels = Variable(labels.cuda())\n",
        "        else:\n",
        "            images = Variable(images.view(-1, seq_dim, input_dim))\n",
        "            labels = Variable(labels)\n",
        "          \n",
        "        optimizer.zero_grad()\n",
        "        outputs = model(images)\n",
        "        loss = criterion(outputs, labels)\n",
        "\n",
        "        if torch.cuda.is_available():\n",
        "            loss.cuda()\n",
        "\n",
        "        loss.backward()\n",
        "        optimizer.step()        \n",
        "        loss_list.append(loss.item())\n",
        "        iter += 1\n",
        "         \n",
        "        if iter % 500 == 0:         \n",
        "            correct = 0\n",
        "            total = 0\n",
        "            for images, labels in valid_loader:\n",
        "                if torch.cuda.is_available():\n",
        "                    images = Variable(images.view(-1, seq_dim, input_dim).cuda())\n",
        "                else:\n",
        "                    images = Variable(images.view(-1 , seq_dim, input_dim))\n",
        "                \n",
        "                outputs = model(images)\n",
        "                _, predicted = torch.max(outputs.data, 1)\n",
        "                 \n",
        "                total += labels.size(0)\n",
        "                if torch.cuda.is_available():\n",
        "                    correct += (predicted.cpu() == labels.cpu()).sum()\n",
        "                else:\n",
        "                    correct += (predicted == labels).sum()\n",
        "             \n",
        "            accuracy = 100 * correct / total\n",
        "            print('Iteration: {}. Loss: {}. Accuracy: {}'.format(iter, loss.item(), accuracy))"
      ],
      "metadata": {
        "colab": {
          "base_uri": "https://localhost:8080/"
        },
        "id": "YkTrNN367vmp",
        "outputId": "3feb8010-9282-4dd8-90ac-8737599d2a1f"
      },
      "execution_count": 22,
      "outputs": [
        {
          "output_type": "stream",
          "name": "stdout",
          "text": [
            "Iteration: 500. Loss: 0.3325059711933136. Accuracy: 93.80999755859375\n",
            "Iteration: 1000. Loss: 0.1143890768289566. Accuracy: 95.38999938964844\n",
            "Iteration: 1500. Loss: 0.09057844430208206. Accuracy: 96.54000091552734\n",
            "Iteration: 2000. Loss: 0.18395444750785828. Accuracy: 96.05999755859375\n",
            "Iteration: 2500. Loss: 0.06006951630115509. Accuracy: 97.12999725341797\n",
            "Iteration: 3000. Loss: 0.04892972111701965. Accuracy: 97.33000183105469\n",
            "Iteration: 3500. Loss: 0.10136602073907852. Accuracy: 97.4800033569336\n",
            "Iteration: 4000. Loss: 0.05847252532839775. Accuracy: 97.5\n",
            "Iteration: 4500. Loss: 0.17699843645095825. Accuracy: 97.44000244140625\n",
            "Iteration: 5000. Loss: 0.1935262233018875. Accuracy: 96.58000183105469\n",
            "Iteration: 5500. Loss: 0.07306650280952454. Accuracy: 97.55999755859375\n",
            "Iteration: 6000. Loss: 0.03944644704461098. Accuracy: 97.93000030517578\n",
            "Iteration: 6500. Loss: 0.06581221520900726. Accuracy: 97.52999877929688\n",
            "Iteration: 7000. Loss: 0.01685594767332077. Accuracy: 97.72000122070312\n",
            "Iteration: 7500. Loss: 0.02745206654071808. Accuracy: 98.12000274658203\n",
            "Iteration: 8000. Loss: 0.009735776111483574. Accuracy: 97.8499984741211\n",
            "Iteration: 8500. Loss: 0.025484859943389893. Accuracy: 98.30999755859375\n",
            "Iteration: 9000. Loss: 0.03910122066736221. Accuracy: 97.95999908447266\n"
          ]
        }
      ]
    },
    {
      "cell_type": "code",
      "source": [
        "def evaluate(model, val_iter):\n",
        "  corrects, total, total_loss = 0,0,0\n",
        "  model.eval()\n",
        "  for images, labels in val_iter:\n",
        "    if torch.cuda.is_available():\n",
        "      images = Variable(images.view(-1, seq_dim, input_dim).cuda())\n",
        "    else:\n",
        "      images = Variable(images.view(-1, seq_dim, input_dim)).to(device)\n",
        "    labels = labels.cuda()\n",
        "    logit = model(images).to(device)\n",
        "    loss = F.cross_entropy(logit, labels, reduction = \"sum\")\n",
        "    _, predicted = torch.max(logit.data, 1)\n",
        "\n",
        "    total += labels.size(0)\n",
        "    total_loss += loss.item()\n",
        "    corrects +=(predicted == labels).sum()\n",
        "\n",
        "  avg_loss = total_loss/len(val_iter.dataset)\n",
        "  avg_accuracy = corrects/total\n",
        "  return avg_loss, avg_accuracy"
      ],
      "metadata": {
        "id": "_KZPGk1imFbJ"
      },
      "execution_count": 31,
      "outputs": []
    },
    {
      "cell_type": "code",
      "source": [
        "def evaluate(model, val_iter):    \n",
        "    corrects, total, total_loss = 0, 0, 0\n",
        "    model.eval()\n",
        "    for images, labels in val_iter:\n",
        "        if torch.cuda.is_available():\n",
        "            images = Variable(images.view(-1, seq_dim, input_dim).cuda())\n",
        "        else:\n",
        "            images = Variable(images.view(-1 , seq_dim, input_dim)).to(device)\n",
        "        labels = labels.cuda()        \n",
        "        logit = model(images).cuda()\n",
        "        loss = F.cross_entropy(logit, labels, reduction = \"sum\")\n",
        "        _, predicted = torch.max(logit.data, 1)\n",
        "        total += labels.size(0)\n",
        "        total_loss += loss.item()\n",
        "        corrects += (predicted == labels).sum()\n",
        "\n",
        "    avg_loss = total_loss / len(val_iter.dataset)\n",
        "    avg_accuracy = corrects / total\n",
        "    return avg_loss, avg_accuracy"
      ],
      "metadata": {
        "id": "RjukOUxurfp9"
      },
      "execution_count": null,
      "outputs": []
    },
    {
      "cell_type": "code",
      "source": [
        "test_loader = DataLoader(dataset=test_dataset, \n",
        "                         batch_size=batch_size,\n",
        "                         shuffle=True)\n",
        "test_loss, test_acc = evaluate(model, test_loader)\n",
        "print(\"Test Loss: %5.2f | Test Accuracy: %5.2f\" % (test_loss, test_acc))\n"
      ],
      "metadata": {
        "colab": {
          "base_uri": "https://localhost:8080/"
        },
        "id": "ujoVZp3nqY2M",
        "outputId": "e53cb9d7-88c4-49af-b11a-a5fa0681c3d7"
      },
      "execution_count": 32,
      "outputs": [
        {
          "output_type": "stream",
          "name": "stdout",
          "text": [
            "Test Loss:  0.07 | Test Accuracy:  0.98\n"
          ]
        }
      ]
    },
    {
      "cell_type": "code",
      "source": [],
      "metadata": {
        "id": "Wi3Us4Kzq0yv"
      },
      "execution_count": null,
      "outputs": []
    }
  ]
}