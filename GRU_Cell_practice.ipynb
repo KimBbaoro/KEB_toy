{
  "nbformat": 4,
  "nbformat_minor": 0,
  "metadata": {
    "colab": {
      "provenance": [],
      "authorship_tag": "ABX9TyMSmWNZuhV7/wJeR3hDp3Lk",
      "include_colab_link": true
    },
    "kernelspec": {
      "name": "python3",
      "display_name": "Python 3"
    },
    "language_info": {
      "name": "python"
    }
  },
  "cells": [
    {
      "cell_type": "markdown",
      "metadata": {
        "id": "view-in-github",
        "colab_type": "text"
      },
      "source": [
        "<a href=\"https://colab.research.google.com/github/KimBbaoro/KEB_toy/blob/master/GRU_Cell_practice.ipynb\" target=\"_parent\"><img src=\"https://colab.research.google.com/assets/colab-badge.svg\" alt=\"Open In Colab\"/></a>"
      ]
    },
    {
      "cell_type": "code",
      "execution_count": 2,
      "metadata": {
        "id": "gonarWBrRh8j"
      },
      "outputs": [],
      "source": [
        "import torch\n",
        "import torch.nn as nn\n",
        "import torchvision.transforms as transforms\n",
        "import torchvision.datasets as dataset\n",
        "from torch.autograd import Variable\n",
        "from torch.nn import Parameter\n",
        "from torch import Tensor\n",
        "import torch.nn.functional as F\n",
        "from torch.utils.data import DataLoader\n",
        "import math\n",
        "\n",
        "device = torch.device(\"cuda:0\" if torch.cuda.is_available() else \"cpu\")\n",
        "\n",
        "cuda = True if torch.cuda.is_available() else False\n",
        "Tensor = torch.cuda.FloatTensor if cuda else torch.FloatTensor\n",
        "torch.manual_seed(125)\n",
        "if torch.cuda.is_available():\n",
        "  torch.cuda.manual_seed_all(125)"
      ]
    },
    {
      "cell_type": "code",
      "source": [
        "mnist_transform = transforms.Compose([\n",
        "    transforms.ToTensor(),\n",
        "    transforms.Normalize((0.5,), (1.0,))\n",
        "])"
      ],
      "metadata": {
        "id": "z3JbsK3YSqxh"
      },
      "execution_count": 3,
      "outputs": []
    },
    {
      "cell_type": "code",
      "source": [
        "from torchvision.datasets import MNIST\n",
        "download_root = \"/content/sample_data\"\n",
        "\n",
        "\n",
        "train_dataset = MNIST(download_root, transform = mnist_transform, train = True, download = True)\n",
        "valid_dataset = MNIST(download_root, transform = mnist_transform, train = False, download = True)\n",
        "test_dataset = MNIST(download_root, transform = mnist_transform, train = False, download = True)"
      ],
      "metadata": {
        "colab": {
          "base_uri": "https://localhost:8080/"
        },
        "id": "v1zwEIJwTBLM",
        "outputId": "b206a712-3406-4f00-f3d6-080a19cf048f"
      },
      "execution_count": 4,
      "outputs": [
        {
          "output_type": "stream",
          "name": "stdout",
          "text": [
            "Downloading http://yann.lecun.com/exdb/mnist/train-images-idx3-ubyte.gz\n",
            "Downloading http://yann.lecun.com/exdb/mnist/train-images-idx3-ubyte.gz to /content/sample_data/MNIST/raw/train-images-idx3-ubyte.gz\n"
          ]
        },
        {
          "output_type": "stream",
          "name": "stderr",
          "text": [
            "100%|██████████| 9912422/9912422 [00:00<00:00, 75415455.86it/s]\n"
          ]
        },
        {
          "output_type": "stream",
          "name": "stdout",
          "text": [
            "Extracting /content/sample_data/MNIST/raw/train-images-idx3-ubyte.gz to /content/sample_data/MNIST/raw\n",
            "\n",
            "Downloading http://yann.lecun.com/exdb/mnist/train-labels-idx1-ubyte.gz\n",
            "Downloading http://yann.lecun.com/exdb/mnist/train-labels-idx1-ubyte.gz to /content/sample_data/MNIST/raw/train-labels-idx1-ubyte.gz\n"
          ]
        },
        {
          "output_type": "stream",
          "name": "stderr",
          "text": [
            "100%|██████████| 28881/28881 [00:00<00:00, 33288181.87it/s]\n"
          ]
        },
        {
          "output_type": "stream",
          "name": "stdout",
          "text": [
            "Extracting /content/sample_data/MNIST/raw/train-labels-idx1-ubyte.gz to /content/sample_data/MNIST/raw\n",
            "\n",
            "Downloading http://yann.lecun.com/exdb/mnist/t10k-images-idx3-ubyte.gz\n",
            "Downloading http://yann.lecun.com/exdb/mnist/t10k-images-idx3-ubyte.gz to /content/sample_data/MNIST/raw/t10k-images-idx3-ubyte.gz\n"
          ]
        },
        {
          "output_type": "stream",
          "name": "stderr",
          "text": [
            "100%|██████████| 1648877/1648877 [00:00<00:00, 20894689.22it/s]\n"
          ]
        },
        {
          "output_type": "stream",
          "name": "stdout",
          "text": [
            "Extracting /content/sample_data/MNIST/raw/t10k-images-idx3-ubyte.gz to /content/sample_data/MNIST/raw\n",
            "\n",
            "Downloading http://yann.lecun.com/exdb/mnist/t10k-labels-idx1-ubyte.gz\n",
            "Downloading http://yann.lecun.com/exdb/mnist/t10k-labels-idx1-ubyte.gz to /content/sample_data/MNIST/raw/t10k-labels-idx1-ubyte.gz\n"
          ]
        },
        {
          "output_type": "stream",
          "name": "stderr",
          "text": [
            "100%|██████████| 4542/4542 [00:00<00:00, 3700568.91it/s]\n"
          ]
        },
        {
          "output_type": "stream",
          "name": "stdout",
          "text": [
            "Extracting /content/sample_data/MNIST/raw/t10k-labels-idx1-ubyte.gz to /content/sample_data/MNIST/raw\n",
            "\n"
          ]
        }
      ]
    },
    {
      "cell_type": "code",
      "source": [
        "batch_size = 64\n",
        "train_loader = DataLoader(dataset = train_dataset,\n",
        "                          batch_size = batch_size,\n",
        "                          shuffle = True)\n",
        "valid_loader = DataLoader(dataset = test_dataset,\n",
        "                          batch_size = batch_size,\n",
        "                          shuffle = True)\n",
        "test_loader = DataLoader(dataset = train_dataset,\n",
        "                          batch_size = batch_size,\n",
        "                          shuffle = True)"
      ],
      "metadata": {
        "id": "W5IbkgwZTgen"
      },
      "execution_count": 5,
      "outputs": []
    },
    {
      "cell_type": "code",
      "source": [
        "batch_size = 100\n",
        "n_iters = 6000\n",
        "num_epochs = n_iters / (len(train_dataset)/batch_size)\n",
        "num_epochs = int(num_epochs)"
      ],
      "metadata": {
        "id": "YbKIQMooT1fB"
      },
      "execution_count": 6,
      "outputs": []
    },
    {
      "cell_type": "code",
      "source": [
        "class GRUCell(nn.Module):\n",
        "  def __init__(self, input_size, hidden_size, bias = True):\n",
        "    super(GRUCell, self).__init__()\n",
        "    self.input_size = input_size\n",
        "    self.hidden_size = hidden_size\n",
        "    self.bias = bias\n",
        "    self.x2h = nn.Linear(input_size, 3*hidden_size, bias)\n",
        "    self.h2h = nn.Linear(hidden_size, 3*hidden_size, bias = bias)\n",
        "\n",
        "  def reset_parameters(self):\n",
        "    std = 1.0/math.sqrt(self.hidden_size)\n",
        "    for w in self.parameters():\n",
        "      w.data.uniform_(-std, std)\n",
        "  \n",
        "  def forward(self,x, hidden):\n",
        "    x = x.view(-1, x.size(1))\n",
        "\n",
        "    gate_x = self.x2h(x) #lstm은 x2h + h2h, gur에서는 개별적인 상태\n",
        "    gate_h = self.h2h(hidden)\n",
        "    gate_x = gate_x.squeeze()\n",
        "    gate_h = gate_h.squeeze()\n",
        "\n",
        "    i_r, i_i, i_n = gate_x.chunk(3,1) #세개로 쪼갬//탄젠트 활성화 함수가 적용되는 부분을 newgate로.\n",
        "    h_r, h_i, h_n = gate_h.chunk(3,1)\n",
        "\n",
        "    resetgate = F.sigmoid(i_r + h_r)\n",
        "    inputgate = F.sigmoid(i_i + h_i)\n",
        "    newgate = F.tanh(i_n +(resetgate*h_n))\n",
        "    hy = newgate + inputgate*(hidden-newgate)\n",
        "    return hy"
      ],
      "metadata": {
        "id": "6Tr8r54iUC7K"
      },
      "execution_count": 9,
      "outputs": []
    },
    {
      "cell_type": "code",
      "source": [
        "class GRUModel(nn.Module):\n",
        "  def __init__(self, input_dim, hidden_dim, layer_dim, output_dim, bias = True):\n",
        "    super(GRUModel, self).__init__()\n",
        "    self.hidden_dim = hidden_dim\n",
        "    self.layer_dim = layer_dim\n",
        "    self.gru_cell = GRUCell(input_dim, hidden_dim , layer_dim)\n",
        "    self.fc = nn.Linear(hidden_dim, output_dim)\n",
        "\n",
        "  def forward(self,x):\n",
        "    if torch.cuda.is_available():\n",
        "      h0 = Variable(torch.zeros(self.layer_dim, x.size(0), self.hidden_dim).cuda())\n",
        "    else:\n",
        "      h0 = Variable(torch.zeros(self.layer_dim, x.size(0), self.hidden_dim))\n",
        "\n",
        "    outs = []\n",
        "    hn = h0[0,:,:]\n",
        "    for seq in range(x.size(1)):\n",
        "      hn = self.gru_cell(x[:,seq,:], hn)\n",
        "      outs.append(hn)\n",
        "      out = outs[-1].squeeze()\n",
        "      out = self.fc(out)\n",
        "    return out"
      ],
      "metadata": {
        "id": "XzmgssBxWF03"
      },
      "execution_count": 22,
      "outputs": []
    },
    {
      "cell_type": "code",
      "source": [
        "input_dim = 28\n",
        "hidden_dim = 128\n",
        "layer_dim = 1\n",
        "output_dim = 10\n",
        "\n",
        "model = GRUModel(input_dim, hidden_dim,layer_dim,output_dim)\n",
        "\n",
        "if torch.cuda.is_available():\n",
        "  model.cuda()\n",
        "\n",
        "criterion = nn.CrossEntropyLoss()\n",
        "learning_rate = 0.1\n",
        "optimizer = torch.optim.SGD(model.parameters(), lr = learning_rate)"
      ],
      "metadata": {
        "id": "28TCad3DXq4T"
      },
      "execution_count": 23,
      "outputs": []
    },
    {
      "cell_type": "code",
      "source": [
        "seq_dim = 28\n",
        "loss_list = []\n",
        "iter = 0\n",
        "for epoch in range(num_epochs):\n",
        "  for i, (images, labels) in enumerate(train_loader):\n",
        "    if torch.cuda.is_available():\n",
        "      images = Variable(images.view(-1, seq_dim, input_dim).cuda())\n",
        "      labels = Variable(labels.cuda())\n",
        "\n",
        "    else:\n",
        "      images = Variable(images.view(-1, seq_dim, input_dim))\n",
        "      labels = Variable(labels)\n",
        "\n",
        "    optimizer.zero_grad()\n",
        "    outputs = model(images)\n",
        "    loss = criterion(outputs, labels)\n",
        "    if torch.cuda.is_available():\n",
        "      loss.cuda()\n",
        "    loss.backward()\n",
        "    optimizer.step()\n",
        "\n",
        "    loss_list.append(loss.item())\n",
        "    iter +=1\n",
        "\n",
        "\n",
        "    if iter % 500 == 0:         \n",
        "      correct = 0\n",
        "      total = 0\n",
        "      for images, labels in valid_loader:\n",
        "          if torch.cuda.is_available():\n",
        "              images = Variable(images.view(-1, seq_dim, input_dim).cuda())\n",
        "          else:\n",
        "              images = Variable(images.view(-1 , seq_dim, input_dim))\n",
        "          \n",
        "          outputs = model(images)\n",
        "          _, predicted = torch.max(outputs.data, 1)\n",
        "          total += labels.size(0)\n",
        "\n",
        "          if torch.cuda.is_available():\n",
        "              correct += (predicted.cpu() == labels.cpu()).sum()\n",
        "          else:\n",
        "              correct += (predicted == labels).sum()\n",
        "        \n",
        "      accuracy = 100 * correct / total\n",
        "      print('Iteration: {}. Loss: {}. Accuracy: {}'.format(iter, loss.item(), accuracy))\n",
        "\n"
      ],
      "metadata": {
        "colab": {
          "base_uri": "https://localhost:8080/"
        },
        "id": "V85sEmcGYPbZ",
        "outputId": "3b7aa625-a526-4289-c1d9-155648cf3834"
      },
      "execution_count": null,
      "outputs": [
        {
          "output_type": "stream",
          "name": "stdout",
          "text": [
            "Iteration: 500. Loss: 0.7814511060714722. Accuracy: 67.12999725341797\n",
            "Iteration: 1000. Loss: 0.6065189838409424. Accuracy: 88.0\n",
            "Iteration: 1500. Loss: 0.22339999675750732. Accuracy: 92.55999755859375\n",
            "Iteration: 2000. Loss: 0.09184202551841736. Accuracy: 94.7300033569336\n"
          ]
        }
      ]
    },
    {
      "cell_type": "code",
      "source": [
        "\n"
      ],
      "metadata": {
        "id": "6WMKITVjatfl"
      },
      "execution_count": null,
      "outputs": []
    }
  ]
}